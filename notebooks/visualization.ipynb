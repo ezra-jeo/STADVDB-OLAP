{
 "cells": [
  {
   "cell_type": "markdown",
   "id": "771c14cd",
   "metadata": {},
   "source": [
    "# Import Dependencies"
   ]
  },
  {
   "cell_type": "code",
   "execution_count": 4,
   "id": "27ae1ed8",
   "metadata": {},
   "outputs": [
    {
     "data": {
      "text/plain": [
       "True"
      ]
     },
     "execution_count": 4,
     "metadata": {},
     "output_type": "execute_result"
    }
   ],
   "source": [
    "import numpy as np\n",
    "import pandas as pd\n",
    "import plotly\n",
    "import mysql.connector\n",
    "from dotenv import load_dotenv\n",
    "import os\n",
    "\n",
    "load_dotenv()"
   ]
  },
  {
   "cell_type": "code",
   "execution_count": 17,
   "id": "b75d1e00",
   "metadata": {},
   "outputs": [
    {
     "name": "stdout",
     "output_type": "stream",
     "text": [
      "[('tt0031458', 'tt32857063', None, None), ('tt0041951', 'tt0041038', 1, 9), ('tt0042816', 'tt0989125', 1, 17), ('tt0042889', 'tt0989125', None, None), ('tt0043426', 'tt0040051', 3, 42), ('tt0043631', 'tt0989125', 2, 16), ('tt0043693', 'tt0989125', 2, 8), ('tt0043710', 'tt0989125', 3, 3), ('tt0044093', 'tt0959862', 1, 6), ('tt0044668', 'tt0044243', 2, 16), ('tt0044901', 'tt0989125', 3, 46), ('tt0045519', 'tt0989125', 4, 11), ('tt0045960', 'tt0044284', 2, 3), ('tt0046135', 'tt0989125', 4, 5), ('tt0046150', 'tt0341798', None, None), ('tt0046855', 'tt0046643', 1, 4), ('tt0046864', 'tt0989125', 5, 20), ('tt0047810', 'tt0914702', 3, 36), ('tt0047852', 'tt0047745', 1, 15), ('tt0047858', 'tt0046637', 2, 9), ('tt0047961', 'tt0989125', 6, 5), ('tt0048067', 'tt0046587', 2, 20), ('tt0048302', 'tt0047768', 1, 6), ('tt0048371', 'tt0989125', 6, 11), ('tt0048378', 'tt0047702', 1, 6), ('tt0048462', 'tt0047702', 1, 3), ('tt0048562', 'tt0047768', 1, 10), ('tt0048883', 'tt0989125', 6, 42), ('tt0049025', 'tt0047720', 1, 4), ('tt0049473', 'tt0046593', 1, 20)]\n"
     ]
    }
   ],
   "source": [
    "conn = mysql.connector.connect(\n",
    "    host=\"localhost\",\n",
    "    user=\"root\",\n",
    "    password=os.getenv(\"MYSQL_DB_PASSWORD\"),\n",
    "    database=\"imdb_star\"\n",
    ")\n",
    "\n",
    "cursor = conn.cursor()\n",
    "cursor.execute(\"SELECT * FROM dimepisode LIMIT 30\")\n",
    "row = cursor.fetchall()\n",
    "print(row)\n",
    "\n",
    "conn.close()"
   ]
  },
  {
   "cell_type": "code",
   "execution_count": null,
   "id": "7700bb6e",
   "metadata": {},
   "outputs": [],
   "source": []
  },
  {
   "cell_type": "code",
   "execution_count": null,
   "id": "026ca4c3",
   "metadata": {},
   "outputs": [],
   "source": []
  },
  {
   "cell_type": "code",
   "execution_count": null,
   "id": "975a74b3",
   "metadata": {},
   "outputs": [],
   "source": []
  },
  {
   "cell_type": "code",
   "execution_count": null,
   "id": "faaa686f",
   "metadata": {},
   "outputs": [],
   "source": []
  },
  {
   "cell_type": "code",
   "execution_count": null,
   "id": "fab949d1",
   "metadata": {},
   "outputs": [],
   "source": []
  }
 ],
 "metadata": {
  "kernelspec": {
   "display_name": "stadvdb_env (3.13.6)",
   "language": "python",
   "name": "python3"
  },
  "language_info": {
   "codemirror_mode": {
    "name": "ipython",
    "version": 3
   },
   "file_extension": ".py",
   "mimetype": "text/x-python",
   "name": "python",
   "nbconvert_exporter": "python",
   "pygments_lexer": "ipython3",
   "version": "3.13.6"
  }
 },
 "nbformat": 4,
 "nbformat_minor": 5
}
